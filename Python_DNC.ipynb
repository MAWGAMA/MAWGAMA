{
  "nbformat": 4,
  "nbformat_minor": 0,
  "metadata": {
    "colab": {
      "provenance": [],
      "authorship_tag": "ABX9TyOkWxALiZaVWrhgC4zqscXP",
      "include_colab_link": true
    },
    "kernelspec": {
      "name": "python3",
      "display_name": "Python 3"
    },
    "language_info": {
      "name": "python"
    }
  },
  "cells": [
    {
      "cell_type": "markdown",
      "metadata": {
        "id": "view-in-github",
        "colab_type": "text"
      },
      "source": [
        "<a href=\"https://colab.research.google.com/github/MAWGAMA/MAWGAMA/blob/main/Python_DNC.ipynb\" target=\"_parent\"><img src=\"https://colab.research.google.com/assets/colab-badge.svg\" alt=\"Open In Colab\"/></a>"
      ]
    },
    {
      "cell_type": "code",
      "execution_count": 11,
      "metadata": {
        "colab": {
          "base_uri": "https://localhost:8080/"
        },
        "id": "u5R2QinUBbl1",
        "outputId": "98ca385b-cfb6-4b92-d1c2-8813591900bf"
      },
      "outputs": [
        {
          "output_type": "stream",
          "name": "stdout",
          "text": [
            "Meu nome é: \n",
            "Marcela\n",
            "Minha idade é: \n",
            "34 anos\n",
            "Minha cidade natal é: \n",
            "Santos\n",
            "Minha cidade atual é: \n",
            "Jacobina\n"
          ]
        }
      ],
      "source": [
        "nome = \"Marcela\"\n",
        "idade = \"34 anos\"\n",
        "cidade_natural = \"Santos\"\n",
        "cidade_residencia = \"Jacobina\"\n",
        "\n",
        "print(\"Meu nome é: \")\n",
        "print(nome)\n",
        "print (\"Minha idade é: \")\n",
        "print(idade)\n",
        "print (\"Minha cidade natal é: \")\n",
        "print(cidade_natural)\n",
        "print (\"Minha cidade atual é: \")\n",
        "print (cidade_residencia)\n"
      ]
    },
    {
      "cell_type": "code",
      "source": [
        "altura = 1.59 # esta é uma variável float\n"
      ],
      "metadata": {
        "id": "qGU17oplDcNe"
      },
      "execution_count": 16,
      "outputs": []
    },
    {
      "cell_type": "code",
      "source": [
        "print(altura)"
      ],
      "metadata": {
        "colab": {
          "base_uri": "https://localhost:8080/"
        },
        "id": "es9qI93jD58b",
        "outputId": "fa9294ca-5678-4699-db45-ff58cfa84ad2"
      },
      "execution_count": 15,
      "outputs": [
        {
          "output_type": "stream",
          "name": "stdout",
          "text": [
            "1.59\n"
          ]
        }
      ]
    },
    {
      "cell_type": "code",
      "source": [
        "vai_chover = True\n",
        "tenho_guarda_chuva =  False"
      ],
      "metadata": {
        "id": "i4-3RFBXEClf"
      },
      "execution_count": 22,
      "outputs": []
    },
    {
      "cell_type": "code",
      "source": [
        "print(vai_chover)\n"
      ],
      "metadata": {
        "colab": {
          "base_uri": "https://localhost:8080/"
        },
        "id": "WF1nU7z7ENjX",
        "outputId": "f828c643-b1d8-402c-edb1-df49f0cde03e"
      },
      "execution_count": 23,
      "outputs": [
        {
          "output_type": "stream",
          "name": "stdout",
          "text": [
            "True\n"
          ]
        }
      ]
    },
    {
      "cell_type": "code",
      "source": [
        "idade = 40\n",
        "print(idade)"
      ],
      "metadata": {
        "colab": {
          "base_uri": "https://localhost:8080/"
        },
        "id": "dqlguBH3EPms",
        "outputId": "68faddf0-b616-4609-b23a-ec1cea56086d"
      },
      "execution_count": 24,
      "outputs": [
        {
          "output_type": "stream",
          "name": "stdout",
          "text": [
            "40\n"
          ]
        }
      ]
    },
    {
      "cell_type": "code",
      "source": [
        "a = 10\n",
        "b = 15\n",
        "resultado = idade / a + b\n",
        "print(resultado)"
      ],
      "metadata": {
        "colab": {
          "base_uri": "https://localhost:8080/"
        },
        "id": "X6FLKXh7GVGX",
        "outputId": "51ba7367-ed7b-4745-f866-e20a5f81eb10"
      },
      "execution_count": 48,
      "outputs": [
        {
          "output_type": "stream",
          "name": "stdout",
          "text": [
            "19.0\n"
          ]
        }
      ]
    },
    {
      "cell_type": "markdown",
      "source": [
        "Área do retângulo"
      ],
      "metadata": {
        "id": "nlNobQmrUU2m"
      }
    },
    {
      "cell_type": "code",
      "source": [
        "largura = 5\n",
        "altura = 3\n",
        "area = largura * altura\n",
        "perimetro = 2 * (largura + altura)\n",
        "\n",
        "print(\"area do retangulo é: \", area)\n",
        "print(\"perimetro do retangulo é: \", perimetro)"
      ],
      "metadata": {
        "colab": {
          "base_uri": "https://localhost:8080/"
        },
        "id": "TXGsd94IUUM9",
        "outputId": "7f6642a1-7cae-4fee-98c6-2404304b9159"
      },
      "execution_count": 55,
      "outputs": [
        {
          "output_type": "stream",
          "name": "stdout",
          "text": [
            "area do retangulo é:  15\n",
            "perimetro do retangulo é:  16\n"
          ]
        }
      ]
    },
    {
      "cell_type": "markdown",
      "source": [
        "Calculadora"
      ],
      "metadata": {
        "id": "0zZmkWT9V7FB"
      }
    },
    {
      "cell_type": "code",
      "source": [
        "x = 10\n",
        "y = 3\n",
        "\n",
        "print(\"Adição: \", x + y)\n",
        "print(\"Subtração: \", x - y)\n",
        "print(\"Multiplicação: \", x * y)\n",
        "print(\"Divisão: \", x / y)\n",
        "print(\"Divisão Inteira: \", x // y)\n",
        "print(\"Resto da Divisão: \", x % y)\n",
        "print(\"Potência: \", x ** y)"
      ],
      "metadata": {
        "colab": {
          "base_uri": "https://localhost:8080/"
        },
        "id": "LVvfly94V8v5",
        "outputId": "44c7f353-1fb8-4059-cfd0-440f74d29657"
      },
      "execution_count": 60,
      "outputs": [
        {
          "output_type": "stream",
          "name": "stdout",
          "text": [
            "Adição:  13\n",
            "Subtração:  7\n",
            "Multiplicação:  30\n",
            "Divisão:  3.3333333333333335\n",
            "Divisão Inteira:  3\n",
            "Resto da Divisão:  1\n",
            "Potência:  1000\n"
          ]
        }
      ]
    }
  ]
}